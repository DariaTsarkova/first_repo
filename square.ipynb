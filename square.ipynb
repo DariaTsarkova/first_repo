{
 "cells": [
  {
   "cell_type": "code",
   "execution_count": 1,
   "id": "cc5ed17c-c937-4de6-96e3-2b56d2799fa2",
   "metadata": {},
   "outputs": [
    {
     "name": "stdout",
     "output_type": "stream",
     "text": [
      "Периметр: 24\n",
      "Площадь: 36\n"
     ]
    }
   ],
   "source": [
    "a = 6  # Сторона квадрата\n",
    "\n",
    "perimeter = a*4  # Расчёт периметра\n",
    "area = a**2  # Расчёт площади\n",
    "\n",
    "print('Периметр:', perimeter)\n",
    "print('Площадь:', area)"
   ]
  }
 ],
 "metadata": {
  "kernelspec": {
   "display_name": "Python 3 (ipykernel)",
   "language": "python",
   "name": "python3"
  },
  "language_info": {
   "codemirror_mode": {
    "name": "ipython",
    "version": 3
   },
   "file_extension": ".py",
   "mimetype": "text/x-python",
   "name": "python",
   "nbconvert_exporter": "python",
   "pygments_lexer": "ipython3",
   "version": "3.12.7"
  }
 },
 "nbformat": 4,
 "nbformat_minor": 5
}
